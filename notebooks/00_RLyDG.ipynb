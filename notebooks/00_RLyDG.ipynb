{
 "cells": [
  {
   "cell_type": "markdown",
   "metadata": {},
   "source": [
    "# Regresión Logística y Descenso de Gradiente"
   ]
  },
  {
   "cell_type": "markdown",
   "metadata": {},
   "source": [
    "Carlos Serrano Valera"
   ]
  },
  {
   "cell_type": "markdown",
   "metadata": {},
   "source": [
    "13/11/2020"
   ]
  },
  {
   "cell_type": "markdown",
   "metadata": {},
   "source": [
    "Esta práctica consiste en la definición de una función de costes de una Regresión Logística. El objetivo es calcular el descenso de gradiente para optimizar dicha función. Todo el proceso se realizará con funciones básicas de Python. Para ello, contamos con una base de datos que contiene 100 observaciones con los resultados de dos pruebas y una tercera variable que indica el resultado de las pruebas: 1 para los aporbados y 0 para los suspensos."
   ]
  },
  {
   "cell_type": "markdown",
   "metadata": {},
   "source": [
    "### Librerías"
   ]
  },
  {
   "cell_type": "code",
   "execution_count": 9,
   "metadata": {},
   "outputs": [],
   "source": [
    "import numpy as np\n",
    "import matplotlib.pyplot as plt\n",
    "import seaborn as sns\n",
    "import pandas as pd\n",
    "%matplotlib inline"
   ]
  },
  {
   "cell_type": "markdown",
   "metadata": {},
   "source": [
    "### Carga de datos"
   ]
  },
  {
   "cell_type": "code",
   "execution_count": 15,
   "metadata": {},
   "outputs": [
    {
     "data": {
      "text/html": [
       "<div>\n",
       "<style scoped>\n",
       "    .dataframe tbody tr th:only-of-type {\n",
       "        vertical-align: middle;\n",
       "    }\n",
       "\n",
       "    .dataframe tbody tr th {\n",
       "        vertical-align: top;\n",
       "    }\n",
       "\n",
       "    .dataframe thead th {\n",
       "        text-align: right;\n",
       "    }\n",
       "</style>\n",
       "<table border=\"1\" class=\"dataframe\">\n",
       "  <thead>\n",
       "    <tr style=\"text-align: right;\">\n",
       "      <th></th>\n",
       "      <th>score-1</th>\n",
       "      <th>score-2</th>\n",
       "      <th>label</th>\n",
       "    </tr>\n",
       "  </thead>\n",
       "  <tbody>\n",
       "    <tr>\n",
       "      <th>0</th>\n",
       "      <td>34.623660</td>\n",
       "      <td>78.024693</td>\n",
       "      <td>0</td>\n",
       "    </tr>\n",
       "    <tr>\n",
       "      <th>1</th>\n",
       "      <td>30.286711</td>\n",
       "      <td>43.894998</td>\n",
       "      <td>0</td>\n",
       "    </tr>\n",
       "    <tr>\n",
       "      <th>2</th>\n",
       "      <td>35.847409</td>\n",
       "      <td>72.902198</td>\n",
       "      <td>0</td>\n",
       "    </tr>\n",
       "    <tr>\n",
       "      <th>3</th>\n",
       "      <td>60.182599</td>\n",
       "      <td>86.308552</td>\n",
       "      <td>1</td>\n",
       "    </tr>\n",
       "    <tr>\n",
       "      <th>4</th>\n",
       "      <td>79.032736</td>\n",
       "      <td>75.344376</td>\n",
       "      <td>1</td>\n",
       "    </tr>\n",
       "  </tbody>\n",
       "</table>\n",
       "</div>"
      ],
      "text/plain": [
       "     score-1    score-2  label\n",
       "0  34.623660  78.024693      0\n",
       "1  30.286711  43.894998      0\n",
       "2  35.847409  72.902198      0\n",
       "3  60.182599  86.308552      1\n",
       "4  79.032736  75.344376      1"
      ]
     },
     "execution_count": 15,
     "metadata": {},
     "output_type": "execute_result"
    }
   ],
   "source": [
    "data = pd.read_csv('4_1_data.csv')\n",
    "data.head()\n"
   ]
  },
  {
   "cell_type": "code",
   "execution_count": 16,
   "metadata": {},
   "outputs": [
    {
     "data": {
      "text/html": [
       "<div>\n",
       "<style scoped>\n",
       "    .dataframe tbody tr th:only-of-type {\n",
       "        vertical-align: middle;\n",
       "    }\n",
       "\n",
       "    .dataframe tbody tr th {\n",
       "        vertical-align: top;\n",
       "    }\n",
       "\n",
       "    .dataframe thead th {\n",
       "        text-align: right;\n",
       "    }\n",
       "</style>\n",
       "<table border=\"1\" class=\"dataframe\">\n",
       "  <thead>\n",
       "    <tr style=\"text-align: right;\">\n",
       "      <th></th>\n",
       "      <th>score-1</th>\n",
       "      <th>score-2</th>\n",
       "      <th>label</th>\n",
       "    </tr>\n",
       "  </thead>\n",
       "  <tbody>\n",
       "    <tr>\n",
       "      <th>95</th>\n",
       "      <td>83.489163</td>\n",
       "      <td>48.380286</td>\n",
       "      <td>1</td>\n",
       "    </tr>\n",
       "    <tr>\n",
       "      <th>96</th>\n",
       "      <td>42.261701</td>\n",
       "      <td>87.103851</td>\n",
       "      <td>1</td>\n",
       "    </tr>\n",
       "    <tr>\n",
       "      <th>97</th>\n",
       "      <td>99.315009</td>\n",
       "      <td>68.775409</td>\n",
       "      <td>1</td>\n",
       "    </tr>\n",
       "    <tr>\n",
       "      <th>98</th>\n",
       "      <td>55.340018</td>\n",
       "      <td>64.931938</td>\n",
       "      <td>1</td>\n",
       "    </tr>\n",
       "    <tr>\n",
       "      <th>99</th>\n",
       "      <td>74.775893</td>\n",
       "      <td>89.529813</td>\n",
       "      <td>1</td>\n",
       "    </tr>\n",
       "  </tbody>\n",
       "</table>\n",
       "</div>"
      ],
      "text/plain": [
       "      score-1    score-2  label\n",
       "95  83.489163  48.380286      1\n",
       "96  42.261701  87.103851      1\n",
       "97  99.315009  68.775409      1\n",
       "98  55.340018  64.931938      1\n",
       "99  74.775893  89.529813      1"
      ]
     },
     "execution_count": 16,
     "metadata": {},
     "output_type": "execute_result"
    }
   ],
   "source": [
    "data.tail()"
   ]
  },
  {
   "cell_type": "code",
   "execution_count": 17,
   "metadata": {},
   "outputs": [
    {
     "name": "stdout",
     "output_type": "stream",
     "text": [
      "<class 'pandas.core.frame.DataFrame'>\n",
      "RangeIndex: 100 entries, 0 to 99\n",
      "Data columns (total 3 columns):\n",
      " #   Column   Non-Null Count  Dtype  \n",
      "---  ------   --------------  -----  \n",
      " 0   score-1  100 non-null    float64\n",
      " 1   score-2  100 non-null    float64\n",
      " 2   label    100 non-null    int64  \n",
      "dtypes: float64(2), int64(1)\n",
      "memory usage: 2.5 KB\n"
     ]
    }
   ],
   "source": [
    "data.info()"
   ]
  },
  {
   "cell_type": "markdown",
   "metadata": {},
   "source": [
    "### Visualización previa"
   ]
  },
  {
   "cell_type": "code",
   "execution_count": 18,
   "metadata": {},
   "outputs": [],
   "source": [
    "# Seleccionamos los valores de las columnas de score-1 y score-2 y generamos una lista llamada puntuaciones\n",
    "\n",
    "puntuaciones = data[['score-1', 'score-2']].values \n",
    "\n",
    "# Mismo procedimiento para la columna de label. En este caso lo asignamos a resultados\n",
    "\n",
    "resultados = data['label'].values"
   ]
  },
  {
   "cell_type": "code",
   "execution_count": 19,
   "metadata": {},
   "outputs": [
    {
     "data": {
      "image/png": "[encoded data removed]",
      "text/plain": [
       "<Figure size 432x288 with 1 Axes>"
      ]
     },
     "metadata": {
      "needs_background": "light"
     },
     "output_type": "display_data"
    }
   ],
   "source": [
    "apro = (resultados == 1).reshape(100, 1) # Creamos apro(aprobado) cuando resultados es igual a 1, y la lista creada tendrá 100 filas y una columna\n",
    "suspe = (resultados == 0).reshape(100, 1) # Mismo procedmiento para los susp (suspensos)\n",
    "\n",
    "# Creamos un \"lienzo\" para graficar sobre él, llamado ax\n",
    "# Vamos a tener dos scatter plot en el mismo lienzo\n",
    "\n",
    "ax = sns.scatterplot(x = puntuaciones[apro[:, 0], 0], # Cogemos todos los aprobados en el test 1\n",
    "                     y = puntuaciones[apro[:, 0], 1], # Todos los aprobados en el test 2\n",
    "                     marker = \"+\",     # tipo de punto en el gráfico\n",
    "                     color = \"blue\",  # color de los puntos\n",
    "                     s = 70)           # tamaño de los puntos\n",
    "\n",
    "sns.scatterplot(x = puntuaciones[suspe[:, 0], 0],  # Todos los suspensos en el test 1\n",
    "                y = puntuaciones[suspe[:, 0], 1],  # Suspensos en el test 2\n",
    "                marker = \"*\",\n",
    "                color = \"yellow\",\n",
    "                s = 70)\n",
    "\n",
    "ax.set(xlabel = \"Puntuaciones Test 1\", ylabel = \" Puntuaciones Test 2\") # Damos nombres a los ejes\n",
    "ax.legend([\"Aprobados\", \"Suspensos\"])  # establecemos la leyenda \n",
    "plt.show();"
   ]
  },
  {
   "cell_type": "markdown",
   "metadata": {},
   "source": [
    "### Definimos la función Sigmoide  $\\sigma(z)$"
   ]
  },
  {
   "cell_type": "markdown",
   "metadata": {},
   "source": [
    "En Regresión Logística, el comportamiento de las variables se pueden explicar normalmente por la función sigmoide, donde dado una $$x$$ e $$y$$ se encuentre una y predicha $$y'$$ tal que  $$y'  = P(y=1|x)$$ donde $$0 ≤  y'  ≤ 1$$"
   ]
  },
  {
   "cell_type": "markdown",
   "metadata": {},
   "source": [
    "Por tanto, la función sigmoide se define por lo siguiente:\n",
    "$$ \\sigma(z) = \\frac{1}{1+e^{-z}}$$"
   ]
  },
  {
   "cell_type": "code",
   "execution_count": 21,
   "metadata": {},
   "outputs": [],
   "source": [
    "# Definimos una función que calcule: 1 partido de 1 + e elevado a menos x\n",
    "def funcion_sigmoide(x):    \n",
    "    return 1/ (1 + np.exp(-x))"
   ]
  },
  {
   "cell_type": "code",
   "execution_count": 22,
   "metadata": {},
   "outputs": [
    {
     "data": {
      "text/plain": [
       "0.5"
      ]
     },
     "execution_count": 22,
     "metadata": {},
     "output_type": "execute_result"
    }
   ],
   "source": [
    "funcion_sigmoide(0)"
   ]
  },
  {
   "cell_type": "markdown",
   "metadata": {},
   "source": [
    "### Función de Coste y Gradiente"
   ]
  },
  {
   "cell_type": "markdown",
   "metadata": {},
   "source": [
    "El objetivo de la regresión logística es optimizar la función de coste\n",
    "\n",
    "$$J(\\theta) = -\\frac{1}{m} \\sum_{i=1}^{m} [ y^{(i)}log(h_{\\theta}(x^{(i)})) + (1 - y^{(i)})log(1 - (h_{\\theta}(x^{(i)}))]$$\n",
    "\n",
    "donde el gradiente de esa función viene dado por\n",
    "\n",
    "$$ \\frac{\\partial J(\\theta)}{\\partial \\theta_j} = \\frac{1}{m} \\sum_{i=1}^{m} (h_{\\theta}(x^{(i)}) - y^{(i)})x_j^{(i)}$$"
   ]
  },
  {
   "cell_type": "code",
   "execution_count": 23,
   "metadata": {},
   "outputs": [],
   "source": [
    "def funcion_coste (theta, x, y):  # Tres parámetros: theta, x e y\n",
    "    m = len(y)            # objeto m con la longitud de y\n",
    "    \n",
    "    y_pred = funcion_sigmoide(np.dot(x , theta))  # Multiplicamos los parametros \"theta\" y \"x\" y le aplicamos la función \n",
    "    # sigmoide antes definida, para calcular la y_predicha. En la notación se identifica como h0(x^i).Es la predicción de y\n",
    "    \n",
    "    error = (y * np.log(y_pred)) + ((1 - y) * np.log(1 - y_pred)) # el error es el logaritmo de la predicción de \"y\" \n",
    "    # multiplicado por el valor real de \"y\", más el resto de \"y\" real por el logaritmo del resto de la \"y_pred\"\n",
    "    # Es decir, lo que \"y predicha\" explica de \"y\" real más todo lo que no es \"y predicha\" explica de todo lo que no es \"y\" real\n",
    "    # Si \"y_pred\" se diferencia mucho de \"y\" real, el valor del error será grande y viceversa.\n",
    "    \n",
    "    coste = -1 / m * sum(error) # Para calcular el coste se suman todas los errores y se divide por m observaciones\n",
    "    # Se añade un menos al principio para que el coste salga positivo\n",
    "    \n",
    "    gradiente = 1 / m * np.dot(x.transpose(), (y_pred - y)) # Por último el gradiente es la derivada del coste en función de \n",
    "    # theta. Lo obtenemos con las transpuesta de x multiplicado por la diferencia de \"y predicha\" menos \"y\" real\n",
    "    \n",
    "    return coste[0] , gradiente"
   ]
  },
  {
   "cell_type": "markdown",
   "metadata": {},
   "source": [
    "### Coste y gradiente incial"
   ]
  },
  {
   "cell_type": "code",
   "execution_count": 24,
   "metadata": {},
   "outputs": [
    {
     "name": "stdout",
     "output_type": "stream",
     "text": [
      "Coste inicial 0.693147180559946\n",
      "Gradiente inicial: [[-0.1       ]\n",
      " [-0.28122914]\n",
      " [-0.25098615]]\n"
     ]
    }
   ],
   "source": [
    "media_puntos = np.mean(puntuaciones, axis = 0)\n",
    "std_puntos = np.std(puntuaciones, axis = 0)\n",
    "puntuaciones = (puntuaciones - media_puntos) / std_puntos # Estandardizatción de puntuaciones\n",
    "\n",
    "filas = puntuaciones.shape[0]  # numero de filas \n",
    "cols = puntuaciones.shape[1]   # numero de columnas\n",
    "\n",
    "X = np.append(np.ones((filas, 1)), puntuaciones, axis = 1) # incluimos término constante con las 100 filas\n",
    "y = resultados.reshape(filas, 1)  # una unica columna de resultados para definir Y \n",
    "\n",
    "theta_init = np.zeros((cols + 1, 1)) # theta inicial definido por una columna de 3 0s\n",
    "coste, gradiente = funcion_coste(theta_init, X, y) # coste y gradiente iniciales definido por la X, Y y theta inicial\n",
    "\n",
    "print(\"Coste inicial\", coste)\n",
    "print(\"Gradiente inicial:\", gradiente)"
   ]
  },
  {
   "cell_type": "markdown",
   "metadata": {},
   "source": [
    "### Descenso de Gradiente"
   ]
  },
  {
   "cell_type": "markdown",
   "metadata": {},
   "source": [
    "Minimizamos la función de coste $J(\\theta)$ actualizando la siguiente ecuación y repitiendo hasta convergencia $\\theta_j := \\theta_j - \\alpha \\frac{\\partial J(\\theta)}{\\partial \\theta_j}$ "
   ]
  },
  {
   "cell_type": "code",
   "execution_count": 25,
   "metadata": {},
   "outputs": [],
   "source": [
    "def descenso_gradiente(x, y, theta, alpha, iteraciones):  # definimos funcion de gradiente con cinco parámetros\n",
    "    # alpha es la curva de aprendizaje\n",
    "    \n",
    "    costes = [] # array vacío de costes que se va a rellenar más tarde\n",
    "    \n",
    "    for i in range(iteraciones): # En cada iteración \n",
    "        coste, gradiente = funcion_coste(theta, x, y)  # calculamos el coste y el gradiente con funcion-coste\n",
    "        theta -= (alpha * gradiente)   # el theta, definido por la curva de apendizaje y el gradiente\n",
    "        # A theta le vamos restando la multiplicacion del gradiente por el alpha\n",
    "        costes.append(coste) # vamos añadiendo al array costes, los resultados en coste de las iteraciones\n",
    "    return theta, costes"
   ]
  },
  {
   "cell_type": "code",
   "execution_count": 26,
   "metadata": {},
   "outputs": [],
   "source": [
    "theta, costes = descenso_gradiente(X, y, theta_init, 0.1, 15000)"
   ]
  },
  {
   "cell_type": "code",
   "execution_count": 27,
   "metadata": {},
   "outputs": [
    {
     "name": "stdout",
     "output_type": "stream",
     "text": [
      "Theta despúes del descenso del gradiente: [[1.71835124]\n",
      " [3.99257782]\n",
      " [3.7249335 ]]\n",
      "Coste: 0.20349770187368266\n"
     ]
    }
   ],
   "source": [
    "print(\"Theta despúes del descenso del gradiente:\", theta)\n",
    "print(\"Coste:\", costes[-1])  # El coste calculado en la última iteración - va a ser el más pequeño posible"
   ]
  },
  {
   "cell_type": "markdown",
   "metadata": {},
   "source": [
    "### Convergencia de Costes "
   ]
  },
  {
   "cell_type": "code",
   "execution_count": 28,
   "metadata": {},
   "outputs": [
    {
     "data": {
      "image/png": "[encoded data removed]",
      "text/plain": [
       "<Figure size 432x288 with 1 Axes>"
      ]
     },
     "metadata": {
      "needs_background": "light"
     },
     "output_type": "display_data"
    }
   ],
   "source": [
    "plt.plot(costes)          # Dibujamos los costes\n",
    "plt.xlabel(\"Iteraciones\") # En función de las iteraciones calculadas\n",
    "plt.ylabel(\"$J(\\Theta)$\") # Costes\n",
    "plt.title(\"Values of Cost Function over iterations of Gradient Descent\");"
   ]
  },
  {
   "cell_type": "markdown",
   "metadata": {},
   "source": [
    "### Referencia"
   ]
  },
  {
   "cell_type": "markdown",
   "metadata": {},
   "source": [
    "- https://es.wikipedia.org/wiki/Funci%C3%B3n_sigmoide\n",
    "- https://github.com/lmntrixsid/Linear-and-Logistic-Regression-with-NumPy-and-Python/blob/master/Logistic_Regression_Completed.ipynb"
   ]
  }
 ],
 "metadata": {
  "kernelspec": {
   "display_name": "gradiente",
   "language": "python",
   "name": "gradiente"
  },
  "language_info": {
   "codemirror_mode": {
    "name": "ipython",
    "version": 3
   },
   "file_extension": ".py",
   "mimetype": "text/x-python",
   "name": "python",
   "nbconvert_exporter": "python",
   "pygments_lexer": "ipython3",
   "version": "3.8.3"
  }
 },
 "nbformat": 4,
 "nbformat_minor": 4
}
